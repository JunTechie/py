{
 "cells": [
  {
   "cell_type": "markdown",
   "metadata": {},
   "source": [
    "**Linear Algebra with scipy**\n",
    "\n",
    "SciPy is a collection of mathematical algorithms and convenience functions built on the Numpy extension of Python. `scipy.linalg` contains  linear algebra routines from ATLAS LAPACK and BLAS libraries.\n",
    "\n",
    "All of these linear algebra routines expect an object that can be converted into a 2-dimensional array. The output of these routines is also a two-dimensional array."
   ]
  },
  {
   "cell_type": "code",
   "execution_count": 1,
   "metadata": {},
   "outputs": [
    {
     "name": "stdout",
     "output_type": "stream",
     "text": [
      "[[1 2]\n",
      " [3 4]]\n",
      "(2, 2)\n",
      "[2 4]\n",
      "[1 2]\n",
      "[[-2.   1. ]\n",
      " [ 1.5 -0.5]]\n",
      "[[-2.   2. ]\n",
      " [ 4.5 -2. ]]\n",
      "[[  1.00000000e+00   0.00000000e+00]\n",
      " [  1.11022302e-16   1.00000000e+00]]\n",
      "[[5 6]]\n",
      "[[5]\n",
      " [6]]\n"
     ]
    },
    {
     "data": {
      "text/plain": [
       "array([17, 39])"
      ]
     },
     "execution_count": 1,
     "metadata": {},
     "output_type": "execute_result"
    }
   ],
   "source": [
    "import numpy as np\n",
    "from scipy import linalg\n",
    "\n",
    "A = np.array([[1,2],[3,4]])\n",
    "print(A) ## A 2d array\n",
    "print(A.shape) ## dimensions of A\n",
    "print(A[:,1])  ## second column of A\n",
    "print(A[0,:])  ## First row of A\n",
    "\n",
    "Ainv = linalg.inv(A)\n",
    "print(Ainv)\n",
    "\n",
    "print(Ainv * A) ## Not matrix multiplication\n",
    "print(np.dot(Ainv, A)) ## matrix multiplication\n",
    "\n",
    "b = np.array([[5,6]]) #2D array\n",
    "print(b)\n",
    "print(b.T) ## Transpose operator\n",
    "\n",
    "A.dot(b.T) #matrix multiplication\n",
    "b = np.array([5,6]) #1D array\n",
    "b.T  #not matrix transpose!\n",
    "A.dot(b)  #does not matter for multiplication"
   ]
  },
  {
   "cell_type": "markdown",
   "metadata": {},
   "source": [
    "**Solving Linear systems**"
   ]
  },
  {
   "cell_type": "code",
   "execution_count": 2,
   "metadata": {},
   "outputs": [
    {
     "name": "stdout",
     "output_type": "stream",
     "text": [
      "x = \n",
      " [[ 1.]\n",
      " [ 2.]\n",
      " [-2.]] \n",
      "\n",
      "Ax - b = \n",
      " [[  0.00000000e+00]\n",
      " [  0.00000000e+00]\n",
      " [  4.44089210e-16]] \n",
      "\n",
      "xp  = \n",
      " [[ 1.]\n",
      " [ 2.]\n",
      " [-2.]] \n",
      "\n"
     ]
    }
   ],
   "source": [
    "## Solving linear systems\n",
    "A = np.array([[0, 2, 1], [3, -1, 2], [1, -1, 1]])\n",
    "b = np.array([[2], [-3], [-3]])\n",
    "\n",
    "x = linalg.solve(A, b)\n",
    "print('x = \\n', x, '\\n')\n",
    "\n",
    "print('Ax - b = \\n', np.dot(A, x) - b, '\\n')\n",
    "\n",
    "xp = linalg.inv(A).dot(b) # slow\n",
    "print('xp  = \\n', xp, '\\n')"
   ]
  },
  {
   "cell_type": "markdown",
   "metadata": {},
   "source": [
    "**Sovling tri-diagonal system of cubic splines**"
   ]
  },
  {
   "cell_type": "code",
   "execution_count": 3,
   "metadata": {},
   "outputs": [
    {
     "name": "stdout",
     "output_type": "stream",
     "text": [
      "A = \n",
      " [[ 1.   0.   0.   0.   0.   0.   0.   0. ]\n",
      " [ 0.4  1.6  0.4  0.   0.   0.   0.   0. ]\n",
      " [ 0.   0.4  1.6  0.4  0.   0.   0.   0. ]\n",
      " [ 0.   0.   0.4  1.6  0.4  0.   0.   0. ]\n",
      " [ 0.   0.   0.   0.4  1.6  0.4  0.   0. ]\n",
      " [ 0.   0.   0.   0.   0.4  1.6  0.4  0. ]\n",
      " [ 0.   0.   0.   0.   0.   0.4  1.6  0.4]\n",
      " [ 0.   0.   0.   0.   0.   0.   0.   1. ]] \n",
      "\n",
      "c = \n",
      " [ 0.         -0.1972606  -0.36371874 -0.47139108 -0.50975091 -0.4485558\n",
      " -0.38773973  0.        ] \n",
      "\n"
     ]
    }
   ],
   "source": [
    "from scipy.sparse import diags\n",
    "## solving diagonal systems (cubic spline equations)\n",
    "x = np.arange(-np.pi/2., np.pi/2., 0.4)\n",
    "y = np.cos(x) \n",
    "\n",
    "n = x.shape[0]\n",
    "A = np.identity(n)\n",
    "b = np.zeros_like(y)\n",
    "    \n",
    "h = x[1:] - x[:-1]\n",
    "main_diag  = np.concatenate([[1], 2. * (h[1:] + h[:-1]), [1]])\n",
    "upper_diag = np.concatenate([[0], h[1:]])\n",
    "lower_diag = np.concatenate([h[:-1], [0]])\n",
    "diagonals  = np.array([upper_diag, main_diag, lower_diag])\n",
    "\n",
    "A = diags(diagonals, [1, 0, -1]).toarray()\n",
    "print('A = \\n', A, '\\n')\n",
    "\n",
    "\n",
    "b0 = [(3. / h[i]) * (y[i+1] - y[i]) - (3. / h[i - 1]) * (y[i] - y[i-1]) for i in range(1,n-1)]\n",
    "b = np.concatenate([[0], b0, [0]])\n",
    "\n",
    "c = linalg.solve(A, b)\n",
    "print('c = \\n', c, '\\n')\n"
   ]
  },
  {
   "cell_type": "markdown",
   "metadata": {},
   "source": [
    "**A = PLU Factorization**"
   ]
  },
  {
   "cell_type": "code",
   "execution_count": 4,
   "metadata": {},
   "outputs": [
    {
     "name": "stdout",
     "output_type": "stream",
     "text": [
      "A = \n",
      " [[ 1.  3.  2.]\n",
      " [ 1.  4.  5.]\n",
      " [ 2.  3.  6.]] \n",
      "\n",
      "P = \n",
      " [[ 0.  0.  1.]\n",
      " [ 0.  1.  0.]\n",
      " [ 1.  0.  0.]] \n",
      "\n",
      "L = \n",
      " [[ 1.   0.   0. ]\n",
      " [ 0.5  1.   0. ]\n",
      " [ 0.5  0.6  1. ]] \n",
      "\n",
      "U = \n",
      " [[ 2.   3.   6. ]\n",
      " [ 0.   2.5  2. ]\n",
      " [ 0.   0.  -2.2]] \n",
      "\n",
      "PLU = \n",
      " [[ 1.  3.  2.]\n",
      " [ 1.  4.  5.]\n",
      " [ 2.  3.  6.]] \n",
      "\n"
     ]
    }
   ],
   "source": [
    "## LU decomposition\n",
    "A = np.array([[1., 3., 2.], [1., 4., 5.], [2., 3., 6.]])\n",
    "P, L, U = linalg.lu(A)\n",
    "print('A = \\n', A, '\\n')\n",
    "print('P = \\n', P, '\\n')\n",
    "print('L = \\n', L, '\\n')\n",
    "print('U = \\n', U, '\\n')\n",
    "\n",
    "print('PLU = \\n', np.dot(P, np.dot(L,U)), '\\n')"
   ]
  },
  {
   "cell_type": "markdown",
   "metadata": {},
   "source": [
    "**Singular Value Decomposition (SVD)**"
   ]
  },
  {
   "cell_type": "code",
   "execution_count": 5,
   "metadata": {},
   "outputs": [
    {
     "name": "stdout",
     "output_type": "stream",
     "text": [
      "A = \n",
      " [[ 14.   2.]\n",
      " [  4.  22.]\n",
      " [ 16.  13.]] \n",
      "\n",
      "U = \n",
      " [[-0.33333333  0.66666667 -0.66666667]\n",
      " [-0.66666667 -0.66666667 -0.33333333]\n",
      " [-0.66666667  0.33333333  0.66666667]] \n",
      "\n",
      "Sig = \n",
      " [ 30.  15.] \n",
      "\n",
      "Sig = \n",
      " [[ 30.   0.]\n",
      " [  0.  15.]\n",
      " [  0.   0.]] \n",
      "\n",
      "VT = \n",
      " [[-0.6 -0.8]\n",
      " [ 0.8 -0.6]] \n",
      "\n",
      "[[ 14.   2.]\n",
      " [  4.  22.]\n",
      " [ 16.  13.]]\n"
     ]
    }
   ],
   "source": [
    "## Singular Value Decomposition\n",
    "A = np.array([[14., 2.], [4., 22.], [16., 13.]])\n",
    "U, Sig, VT = linalg.svd(A)\n",
    "\n",
    "print('A = \\n', A, '\\n')\n",
    "print('U = \\n', U, '\\n')\n",
    "print('Sig = \\n', Sig, '\\n')\n",
    "print('Sig = \\n', linalg.diagsvd(Sig,U.shape[0],VT.shape[0]), '\\n')\n",
    "print('VT = \\n', VT, '\\n')\n",
    "\n",
    "## diagsvd(S, M, N) creates an M X N diagonal matrix with diagonal S\n",
    "print(np.dot(U, np.dot(linalg.diagsvd(Sig,U.shape[0],VT.shape[0]), VT)))"
   ]
  },
  {
   "cell_type": "markdown",
   "metadata": {},
   "source": [
    "**Solving over determined linear systems with least squares method**\n",
    "\n",
    "Consider a system of linear equations  $Ax=b$ , where  $A$ is $m \\times n$, $m \\geq n$ and full (column) rank. This kind of system is called overdetermined, as it has more equations than unknowns (most of the times no solution). The least-squares solution is to find $x$ that minimizes $||Ax - b||$. This can be acheived by\n",
    "\n",
    "$$\n",
    "Ax = b \\iff A^{T}A x = A^{T}b \\iff x = (A^{T}A)^{-1}A^{T} b\n",
    "$$\n",
    " \n",
    "The matrix $A^{\\dagger} = (A^{T}A)^{-1}A^{T}$ is called Moore–Penrose pseudoinverse."
   ]
  },
  {
   "cell_type": "code",
   "execution_count": 7,
   "metadata": {},
   "outputs": [
    {
     "name": "stdout",
     "output_type": "stream",
     "text": [
      "A = \n",
      " [[-0.66065865 -0.67905565 -0.32887524]\n",
      " [ 0.69036457  0.44965809  1.13392819]\n",
      " [-1.36170749 -0.13187252 -0.65828684]\n",
      " [ 0.67095441  0.26218896 -0.7917989 ]\n",
      " [ 0.10753987  0.98940728 -1.80366061]] \n",
      "\n",
      "B = \n",
      " [[ 0.09034681 -0.1370775  -0.6209266   0.47370293 -0.08398394]\n",
      " [-0.59062314  0.59346877  0.43048546 -0.3984375   0.49859255]\n",
      " [-0.19745998  0.34868783  0.10049585 -0.31777101 -0.19638822]] \n",
      "\n",
      "Ap = \n",
      " [[ 0.09034681 -0.1370775  -0.6209266   0.47370293 -0.08398394]\n",
      " [-0.59062314  0.59346877  0.43048546 -0.3984375   0.49859255]\n",
      " [-0.19745998  0.34868783  0.10049585 -0.31777101 -0.19638822]] \n",
      "\n",
      "Ap x A = \n",
      " [[  1.00000000e+00   1.10428043e-16   1.66533454e-16]\n",
      " [  2.45641610e-16   1.00000000e+00  -2.22044605e-16]\n",
      " [  1.87350135e-16   2.77555756e-17   1.00000000e+00]] \n",
      "\n"
     ]
    }
   ],
   "source": [
    "A = np.random.randn(5,3)\n",
    "print('A = \\n', A, '\\n')\n",
    "B = linalg.pinv(A)\n",
    "print('B = \\n', B, '\\n')\n",
    "Ap = np.dot(linalg.inv(np.dot(A.T,A)),A.T)\n",
    "print('Ap = \\n', Ap, '\\n')\n",
    "\n",
    "print('Ap x A = \\n', np.dot(Ap, A), '\\n')"
   ]
  },
  {
   "cell_type": "markdown",
   "metadata": {},
   "source": [
    "**General case: non-full ranked or underdetermined systems**\n",
    "For the system $Ax = b$, where $A$ is $m \\times n$, $m < n$ or if $rank(A) < n$, the $n \\times n$ matrix $A^{T}A$ is non invertible. This is because $rank(A^{T}A) = rank(A) < n$. In such cases, we can still define a pseudo inverse using singular value decomposition. Let $A = U \\Sigma V^{T}$ with $U$, $m \\times m$ orthogonal, $\\Sigma$, $m \\times n$ diagonal and $V$, $n \\times n$ orthogonal.\n",
    "\n",
    "$$\n",
    "Ax = b \\iff U \\Sigma V^{T} x = b \\iff \\Sigma V^{T} x = U^{T}b\n",
    "$$\n",
    "\n",
    "Define $y = V^{T} x$ and let $b^{\\prime} = U^{T}b$. Then the system $Ax = b$ is equivalent to the diagonal system:\n",
    "\n",
    "$$\\Sigma y = b^{\\prime}$$. \n",
    "\n",
    "If we can solve this diagonal system for $y$, we can then compute $x = Vy$. The diagonal matrix $\\Sigma$ is of the form\n",
    "\n",
    "$$\n",
    "\\Sigma = \\begin{bmatrix} \\tilde{\\Sigma} & 0\\\\\n",
    "0 & 0\\\\ \n",
    "\\end{bmatrix}\n",
    "$$\n",
    "\n",
    "with $\\tilde{\\Sigma}$ is an $r \\times r$ diagonal matrix of the form\n",
    "$$\n",
    "\\tilde{\\Sigma} = \\begin{bmatrix} \n",
    "\\sigma_1 & 0& \\cdots &0\\\\ \n",
    "0& \\sigma_2 &  \\cdots & 0\\\\\n",
    "\\vdots & \\vdots & \\cdots & \\vdots\\\\\n",
    "0& 0 &  \\cdots & \\sigma_r \\\\\n",
    "\\end{bmatrix}\n",
    "$$\n",
    "\n",
    "where $\\sigma_1 \\geq \\cdots \\geq\\sigma_r > 0$ are the non-zero singular values of $A$, with $r \\leq \\min(m,n)$. Since $\\Sigma$ may not be invertible due to singularities, we resort to defining a pseudo inverse of $\\Sigma$ as\n",
    "\n",
    "$$\n",
    "\\Sigma^{-1} = \\begin{bmatrix} \\tilde{\\Sigma}^{-1} & 0\\\\\n",
    "0 & 0\\\\ \n",
    "\\end{bmatrix}\n",
    "$$\n",
    "and \n",
    "$$\n",
    "\\tilde{\\Sigma}^{-1} = \\begin{bmatrix} \n",
    "1/\\sigma_1 & 0& \\cdots &0\\\\ \n",
    "0& 1/\\sigma_2 &  \\cdots & 0\\\\\n",
    "\\vdots & \\vdots & \\cdots & \\vdots\\\\\n",
    "0& 0 &  \\cdots & 1/\\sigma_r \\\\\n",
    "\\end{bmatrix}\n",
    "$$\n",
    "\n",
    "Now, let $\\hat{y} = \\Sigma^{-1}b^{\\prime}$. This solution minimizes $||\\Sigma y - b^{\\prime}||$ with the additional constraint that $||\\hat{y}||$ is mimimum among all possible solutions. The pseudoinverse of $A$ can be obtained by $A^{\\dagger} = V \\Sigma^{-1} U^{T}$.\n",
    "\n"
   ]
  },
  {
   "cell_type": "code",
   "execution_count": 8,
   "metadata": {},
   "outputs": [
    {
     "name": "stdout",
     "output_type": "stream",
     "text": [
      "A = \n",
      " [[ 1.  0. -1.  2.]\n",
      " [ 1.  1.  1. -1.]\n",
      " [ 0. -1. -2.  3.]\n",
      " [ 5.  2. -1.  4.]\n",
      " [-1.  2.  5. -8.]] \n",
      "\n",
      "Sig = \n",
      " [  1.15923770e+01   5.44213162e+00   7.76763483e-16   2.46098258e-16] \n",
      "\n",
      "SigInv = \n",
      " [[ 0.08626359  0.          0.          0.          0.        ]\n",
      " [ 0.          0.18375153  0.          0.          0.        ]\n",
      " [ 0.          0.          0.          0.          0.        ]\n",
      " [ 0.          0.          0.          0.          0.        ]] \n",
      "\n",
      "Ap = \n",
      " [[ 0.01708543  0.04170854 -0.02462312  0.13467337  0.0321608 ]\n",
      " [ 0.00653266  0.03065327 -0.0241206   0.08090452  0.04170854]\n",
      " [-0.0040201   0.01959799 -0.02361809  0.02713568  0.05125628]\n",
      " [ 0.01457286 -0.00854271  0.02311558  0.02663317 -0.06080402]] \n",
      "\n",
      "B = \n",
      " [[ 0.01708543  0.04170854 -0.02462312  0.13467337  0.0321608 ]\n",
      " [ 0.00653266  0.03065327 -0.0241206   0.08090452  0.04170854]\n",
      " [-0.0040201   0.01959799 -0.02361809  0.02713568  0.05125628]\n",
      " [ 0.01457286 -0.00854271  0.02311558  0.02663317 -0.06080402]] \n",
      "\n",
      "x = \n",
      " [[ 0.5]\n",
      " [ 0.5]\n",
      " [ 0.5]\n",
      " [-0.5]] \n",
      "\n",
      "Ax - b = \n",
      " [[ -4.44089210e-16]\n",
      " [  8.88178420e-16]\n",
      " [ -1.77635684e-15]\n",
      " [  0.00000000e+00]\n",
      " [  3.55271368e-15]]\n"
     ]
    }
   ],
   "source": [
    "A = np.array([[1., 0., -1., 2.], [1., 1., 1., -1.], [0., -1., -2., 3.], [5., 2., -1., 4.], [-1., 2., 5., -8.]])\n",
    "b = np.array([[-1.], [2.], [-3.], [1.], [7.]])\n",
    "A.shape\n",
    "print('A = \\n', A, '\\n')\n",
    "\n",
    "U, Sig, VT = linalg.svd(A)\n",
    "V = VT.T\n",
    "print('Sig = \\n', Sig, '\\n')\n",
    "\n",
    "epsilon = 10.**(-12)\n",
    "\n",
    "rank = sum(Sig > epsilon)\n",
    "\n",
    "siginv = np.zeros_like(Sig)\n",
    "siginv[Sig > epsilon] = 1 / Sig[Sig > epsilon]\n",
    "\n",
    "m = A.shape[0]\n",
    "n = A.shape[1]\n",
    "SigInv = linalg.diagsvd(siginv, n, m)\n",
    "print('SigInv = \\n', SigInv, '\\n')\n",
    "\n",
    "Ap = np.dot(V, np.dot(SigInv, U.T))\n",
    "B = linalg.pinv2(A)\n",
    "\n",
    "\n",
    "print('Ap = \\n', Ap, '\\n')\n",
    "print('B = \\n', B, '\\n')\n",
    "\n",
    "\n",
    "x = np.dot(Ap, b)\n",
    "print('x = \\n', x, '\\n')\n",
    "\n",
    "print('Ax - b = \\n', np.dot(A, x) - b)\n"
   ]
  },
  {
   "cell_type": "markdown",
   "metadata": {},
   "source": [
    "Note that for full rank matrices, both SVD pseudo inverse and $A^{\\dagger} = (A^{T}A)^{-1}A^{T}$ are the same:"
   ]
  },
  {
   "cell_type": "code",
   "execution_count": 9,
   "metadata": {},
   "outputs": [
    {
     "name": "stdout",
     "output_type": "stream",
     "text": [
      "A = \n",
      " [[-0.73781883 -0.07301793]\n",
      " [ 0.87027489 -1.15418128]\n",
      " [ 0.38428242 -1.50793447]] \n",
      "\n",
      "AP1 = \n",
      " [[-0.95953704  0.47588969 -0.31778541]\n",
      " [-0.42675692 -0.11797433 -0.55219597]] \n",
      "\n",
      "AP2 = \n",
      " [[-0.95953704  0.47588969 -0.31778541]\n",
      " [-0.42675692 -0.11797433 -0.55219597]] \n",
      "\n"
     ]
    }
   ],
   "source": [
    "A = np.random.randn(3, 2)\n",
    "print('A = \\n', A, '\\n')\n",
    "Ap1 = linalg.pinv(A)\n",
    "print('AP1 = \\n', Ap1, '\\n')\n",
    "Ap2 = linalg.pinv2(A)\n",
    "print('AP2 = \\n', Ap2, '\\n')\n"
   ]
  },
  {
   "cell_type": "markdown",
   "metadata": {},
   "source": [
    "**General SVD solver for linear systems**"
   ]
  },
  {
   "cell_type": "code",
   "execution_count": 10,
   "metadata": {},
   "outputs": [],
   "source": [
    "def svd_solver(A, b, epsilon = 10.**-12):\n",
    "    m = A.shape[0]\n",
    "    n = A.shape[1]\n",
    "\n",
    "    U,Sig,VT = linalg.svd(A)\n",
    "    V = VT.T\n",
    "    \n",
    "    siginv = np.zeros_like(Sig)\n",
    "    siginv[Sig > epsilon] = 1 / Sig[Sig > epsilon]\n",
    "\n",
    "    SigInv = linalg.diagsvd(siginv, n, m)\n",
    "    Ap = np.dot(V, np.dot(SigInv, U.T))\n",
    "    \n",
    "    x = np.dot(Ap, b)\n",
    "    return(x)"
   ]
  },
  {
   "cell_type": "markdown",
   "metadata": {},
   "source": [
    "**Spectral Decomposition**"
   ]
  },
  {
   "cell_type": "code",
   "execution_count": 18,
   "metadata": {},
   "outputs": [
    {
     "name": "stdout",
     "output_type": "stream",
     "text": [
      "[[-0.46155521 -0.78186489 -0.41911107]\n",
      " [-0.62175801  0.62210048 -0.47582346]\n",
      " [-0.63275885 -0.04096687  0.77326448]]\n",
      "[ 8.83080456+0.j  1.41392304+0.j -4.24472760+0.j]\n",
      "[[ 2.+0.j  1.+0.j  4.+0.j]\n",
      " [ 1.+0.j  3.+0.j  5.+0.j]\n",
      " [ 4.+0.j  5.+0.j  1.+0.j]]\n"
     ]
    }
   ],
   "source": [
    "A = np.array([[2,1,4],[1,3,5],[4,5,1]])\n",
    "\n",
    "Lam, U = linalg.eig(A)\n",
    "print(U)\n",
    "print(Lam)\n",
    "\n",
    "Lam = diags(Lam, 0).toarray()\n",
    "S = np.dot(U, np.dot(Lam, U.T))\n",
    "print(S)"
   ]
  }
 ],
 "metadata": {
  "kernelspec": {
   "display_name": "Python 3 (ipykernel)",
   "language": "python",
   "name": "python3"
  },
  "language_info": {
   "codemirror_mode": {
    "name": "ipython",
    "version": 3
   },
   "file_extension": ".py",
   "mimetype": "text/x-python",
   "name": "python",
   "nbconvert_exporter": "python",
   "pygments_lexer": "ipython3",
   "version": "3.9.5"
  }
 },
 "nbformat": 4,
 "nbformat_minor": 4
}
