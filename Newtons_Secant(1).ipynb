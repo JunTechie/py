{
 "cells": [
  {
   "cell_type": "markdown",
   "metadata": {},
   "source": [
    "**Illusteration of Newton's method**\n",
    "\n",
    "Newton's method is an functional iteration algorithm for finding roots of functions. If $f \\in C^{2}[a,b]$, with $f(p) = 0$ and $f^{\\prime}(p) \\neq 0$, then the functionional iterations $p_{n+1} = g(p_n)$, for \n",
    "\n",
    "$$\n",
    "g(x) = x - \\dfrac{f(x)}{f^{\\prime}(x)}\n",
    "$$\n",
    "\n",
    "converge to the root $p$ for $p_0 \\in [p -\\delta, p + \\delta]$, where $\\delta$ is sufficiently small."
   ]
  },
  {
   "cell_type": "code",
   "execution_count": 1,
   "metadata": {},
   "outputs": [
    {
     "name": "stdout",
     "output_type": "stream",
     "text": [
      "max number of iteration exceeded\n",
      "                  p1                p2\n",
      "0  0.785398163397448 0.785398163397448\n",
      "1  0.707106781186548 0.739536133515238\n",
      "2  0.760244597075630 0.739085178106010\n",
      "3  0.724667480889126 0.739085133215161\n",
      "4  0.748719885789484 0.739085133215161\n",
      "5  0.732560844592242               NaN\n",
      "6  0.743464211315294               NaN\n",
      "7  0.736128256500852               NaN\n",
      "8  0.741073687083710               NaN\n",
      "9  0.737744158992575               NaN\n",
      "10 0.739987764795871               NaN\n"
     ]
    }
   ],
   "source": [
    "## Testing Newton's method\n",
    "import numpy as np\n",
    "import pandas as pd\n",
    "\n",
    "def fixed_point(p0, e, max_it, g):\n",
    "    p = []\n",
    "    p.append(p0)\n",
    "    i = 1\n",
    "    while i <= max_it:\n",
    "        try:\n",
    "            p.append(g(p0))\n",
    "        except:\n",
    "            print('Arithmetic error')\n",
    "            return(p)\n",
    "        if abs(p[i] - p0) <= e:\n",
    "            return(p)\n",
    "        p0 = p[i]\n",
    "        i += 1\n",
    "    \n",
    "    print('max number of iteration exceeded')\n",
    "    return(p)\n",
    "\n",
    "def g1(x):\n",
    "    y = np.cos(x)\n",
    "    return y\n",
    "\n",
    "def g2(x):\n",
    "    y = x + (np.cos(x) - x)/(np.sin(x) + 1)\n",
    "    return y\n",
    "\n",
    "p0 = np.pi / 4\n",
    "\n",
    "max_it = 10\n",
    "e = 1e-8\n",
    "\n",
    "\n",
    "p_f = fixed_point(p0, e, max_it, g1)\n",
    "p_n = fixed_point(p0, e, max_it, g2)\n",
    "\n",
    "all_ps = {'p1':p_f, 'p2':p_n}\n",
    "D = pd.DataFrame(dict([(k,pd.Series(v)) for k, v in all_ps.items()]))\n",
    "pd.options.display.float_format = '{:,.15f}'.format\n",
    "print(D)"
   ]
  },
  {
   "cell_type": "code",
   "execution_count": 20,
   "metadata": {},
   "outputs": [
    {
     "data": {
      "text/plain": [
       "(-3.0, 3.0)"
      ]
     },
     "execution_count": 20,
     "metadata": {},
     "output_type": "execute_result"
    },
    {
     "data": {
      "image/png": "[encoded data removed]",
      "text/plain": [
       "<Figure size 432x288 with 1 Axes>"
      ]
     },
     "metadata": {
      "needs_background": "light"
     },
     "output_type": "display_data"
    }
   ],
   "source": [
    "import numpy as np\n",
    "import matplotlib as mpl\n",
    "import matplotlib.pyplot as plt\n",
    "\n",
    "def f(x):\n",
    "    y = x ** 3 + 4 * x ** 2 - 10\n",
    "    return(y)\n",
    "\n",
    "def fp(x):\n",
    "    y = 3 * x ** 2 + 8 * x\n",
    "    return(y)\n",
    "\n",
    "def g(x):\n",
    "    y = x - f(x) / fp(x)\n",
    "    return(y)\n",
    "\n",
    "\n",
    "def newtons_method(p0, e, max_it):\n",
    "    i = 1\n",
    "    while i <= max_it:\n",
    "        p = g(p0)\n",
    "        if abs(p - p0) <= e:\n",
    "            return(p)\n",
    "        p0 = p\n",
    "        i += 1\n",
    "    return(-999)\n",
    "\n",
    "p0 = 1.5\n",
    "e = 0.0000000001\n",
    "max_it = 1000\n",
    "p = newtons_method(p0, e, max_it)\n",
    "\n",
    "a = 1\n",
    "b = 2\n",
    "\n",
    "x   = np.linspace(a, b, 100)\n",
    "fx  = f(x)\n",
    "fpx = fp(x)\n",
    "gx  = g(x)\n",
    "\n",
    "fig, ax = plt.subplots()\n",
    "\n",
    "ax.plot(x, fx, color = 'blue', label = 'f(x)')\n",
    "ax.plot(x, gx, color = 'red', label = 'g(x)')\n",
    "ax.plot(x, np.zeros_like(x), color = 'black')\n",
    "ax.plot(x, x, color = 'green', label = 'y = x')\n",
    "ax.axvline(x=p, linestyle=':')\n",
    "ax.legend(ncol = 3, loc = 3, bbox_to_anchor = (0,1))\n",
    "\n",
    "ax.set_xlim(1,2)\n",
    "ax.set_ylim(-3,3)"
   ]
  },
  {
   "cell_type": "markdown",
   "metadata": {
    "tags": []
   },
   "source": [
    "## Secant method\n",
    "One of the drawbacks of the Newton's method is the requirement for calculating $f'(x)$. The Secant method approximates $f'(x)$ as follows.\n",
    "\n",
    "$$\n",
    "f'(p_{n-1}) = \\lim_{x \\rightarrow p_{n-1}}\\dfrac{f(p_{n-1}) - f(x)}{p_{n-1} - x}\n",
    "$$\n",
    "\n",
    "Since $p_{n-2}$ is close to $p_{n-1}$, we will use the following approximation:\n",
    "\n",
    "$$\n",
    "f'(p_{n-1}) \\approx \\dfrac{f(p_{n-1}) - f(p_{n-2})}{p_{n-1} - p_{n-2}}\n",
    "$$\n",
    "\n",
    "Substituting this approximation in the Newton's fixed-point iteration, we get\n",
    "\n",
    "$$\n",
    "p_{n} = p_{n-1} - \\dfrac{f(p_{n-1})(p_{n-1} - p_{n-2})}{f(p_{n-1}) - f(p_{n-2})}\n",
    "$$\n",
    "\n",
    "Note that for the secant method, we need two initial guesses."
   ]
  },
  {
   "cell_type": "code",
   "execution_count": 33,
   "metadata": {},
   "outputs": [
    {
     "name": "stdout",
     "output_type": "stream",
     "text": [
      "                 p1                p2\n",
      "0 0.500000000000000 0.500000000000000\n",
      "1 0.785398163397448 0.755222417105636\n",
      "2 0.736384138836582 0.739141666149879\n",
      "3 0.739058139213890 0.739085133920807\n",
      "4 0.739085149337276 0.739085133215161\n",
      "5 0.739085133215065               nan\n",
      "6 0.739085133215161               nan\n"
     ]
    }
   ],
   "source": [
    "## Testing Newton's method\n",
    "import numpy as np\n",
    "import pandas as pd\n",
    "\n",
    "def fixed_point(p0, e, max_it, g):\n",
    "    p = []\n",
    "    p.append(p0)\n",
    "    i = 1\n",
    "    while i <= max_it:\n",
    "        try:\n",
    "            p.append(g(p0))\n",
    "        except:\n",
    "            print('Arithmetic error')\n",
    "            return(p)\n",
    "        if abs(p[i] - p0) <= e:\n",
    "            return(p)\n",
    "        p0 = p[i]\n",
    "        i += 1\n",
    "    \n",
    "    print('max number of iteration exceeded')\n",
    "    return(p)\n",
    "\n",
    "def secant_method(p0, p1, e, max_it, f):\n",
    "    p = []\n",
    "    p.extend([p0,p1]) ## note that to append another list we use extend\n",
    "    i = 2\n",
    "    while i <= max_it:\n",
    "        try:\n",
    "            p2 = p1 - (f(p1) * (p1 - p0))/(f(p1) - f(p0))\n",
    "            p.append(p2)\n",
    "        except:\n",
    "            print('Arithmetic error')\n",
    "            return(p)\n",
    "        if abs(p2 - p1) <= e:\n",
    "            return(p)\n",
    "        p1 = p[i]\n",
    "        p0 = p[i-1]\n",
    "        i += 1\n",
    "        \n",
    "    \n",
    "    print('max number of iteration exceeded')\n",
    "    return(p)\n",
    "\n",
    "def f(x):\n",
    "    y = np.cos(x) - x\n",
    "    return y\n",
    "\n",
    "def g1(x):\n",
    "    y = np.cos(x)\n",
    "    return y\n",
    "\n",
    "def g2(x):\n",
    "    y = x + (np.cos(x) - x)/(np.sin(x) + 1)\n",
    "    return y\n",
    "\n",
    "p0 = 0.5\n",
    "p1 = np.pi / 4\n",
    "\n",
    "max_it = 10\n",
    "e = 1e-8\n",
    "\n",
    "\n",
    "p_s = secant_method(p0, p1, e, max_it, f)\n",
    "p_n = fixed_point(p0, e, max_it, g2)\n",
    "\n",
    "all_ps = {'p1':p_s, 'p2':p_n}\n",
    "D = pd.DataFrame(dict([(k,pd.Series(v)) for k, v in all_ps.items()]))\n",
    "pd.options.display.float_format = '{:,.15f}'.format\n",
    "print(D)"
   ]
  }
 ],
 "metadata": {
  "kernelspec": {
   "display_name": "Python 3 (ipykernel)",
   "language": "python",
   "name": "python3"
  },
  "language_info": {
   "codemirror_mode": {
    "name": "ipython",
    "version": 3
   },
   "file_extension": ".py",
   "mimetype": "text/x-python",
   "name": "python",
   "nbconvert_exporter": "python",
   "pygments_lexer": "ipython3",
   "version": "3.9.5"
  }
 },
 "nbformat": 4,
 "nbformat_minor": 4
}
