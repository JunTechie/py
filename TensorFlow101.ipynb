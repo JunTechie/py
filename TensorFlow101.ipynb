{
 "cells": [
  {
   "cell_type": "markdown",
   "metadata": {
    "slideshow": {
     "slide_type": "slide"
    }
   },
   "source": [
    "**Introduction to TensorFlow**\n",
    "TensorFlow is an open source library for numerical computation using data flow graphs. Nodes in the graph represent mathematical operations (ops), while the graph edges represent the multidimensional data arrays (tensors) communicated between them. Tensors are the primary data structure that TensorFlow uses to operate on the computational graphs. Tensors are multi-dimensional arrays (similar to NumPy arrays) with a uniform type (called a dtype `tf.dtypes.DType`). Note that tensors are immutable like Python numbers and cannot be updated, we can only create a new one.\n",
    "\n",
    "For a comprehensive guide see: https://www.tensorflow.org/guide\n",
    "\n",
    "\n",
    "**Main ways of creating Tensors**\n",
    "\n",
    "1. Fixed Tensors\n",
    "    * `zero_tsr = tf.zeros([row_dim, col_dim])`\n",
    "    * `ones_tsr = tf.ones([row_dim, col_dim])`\n",
    "    * `filled_tsr = tf.fill([row_dim, col_dim], 42)`\n",
    "    * `constant_tsr = tf.constant([1,2,3])`\n",
    "2. Tensors of similar shape\n",
    "    * `zeros_similar = tf.zeros_like(constant_tsr)`\n",
    "    * `ones_similar = tf.ones_like(constant_tsr)`\n",
    "3. Sequence Tensors\n",
    "    * `linear_tsr = tf.linspace(start=0, stop=1, snum=100)`\n",
    "    * `integer_seq_tsr = tf.range(start=6, limit=15, delta=3)`\n",
    "4. Random Tensors\n",
    "    * `randunif_tsr = tf.random.uniform([row_dim, col_dim], minval=0, maxval=1)`\n",
    "    * `randnorm_tsr = tf.random.normal([row_dim, col_dim],mean=0.0, stddev=1.0)`\n"
   ]
  },
  {
   "cell_type": "code",
   "execution_count": 1,
   "metadata": {},
   "outputs": [
    {
     "name": "stdout",
     "output_type": "stream",
     "text": [
      "2.5.0-rc3\n",
      "True\n",
      "tf.Tensor(4, shape=(), dtype=int32)\n",
      "tf.Tensor(\n",
      "[[1. 2.]\n",
      " [3. 4.]\n",
      " [5. 6.]], shape=(3, 2), dtype=float16)\n",
      "tf.Tensor(8.0, shape=(), dtype=float32)\n",
      "8.0\n",
      "[[[0 0]\n",
      "  [0 0]\n",
      "  [0 0]]\n",
      "\n",
      " [[0 0]\n",
      "  [0 0]\n",
      "  [0 0]]]\n"
     ]
    },
    {
     "name": "stderr",
     "output_type": "stream",
     "text": [
      "2022-11-08 12:40:02.631042: I tensorflow/core/platform/cpu_feature_guard.cc:142] This TensorFlow binary is optimized with oneAPI Deep Neural Network Library (oneDNN) to use the following CPU instructions in performance-critical operations:  AVX2 FMA\n",
      "To enable them in other operations, rebuild TensorFlow with the appropriate compiler flags.\n"
     ]
    }
   ],
   "source": [
    "import tensorflow as tf\n",
    "import numpy as np\n",
    "\n",
    "print(tf.__version__)\n",
    "print(tf.executing_eagerly()) ## this is a major shift from TF 1\n",
    "\n",
    "\n",
    "ct1 = tf.constant(4)\n",
    "print(ct1)\n",
    "\n",
    "ct2 = tf.constant([[1, 2],[3, 4],[5, 6]], dtype=tf.float16)\n",
    "print(ct2)\n",
    "\n",
    "zt = tf.zeros([2, 3, 2], dtype = tf.int32)\n",
    "ot = tf.ones([4, 2])\n",
    "\n",
    "print(tf.reduce_sum(ot))\n",
    "print(tf.reduce_sum(ot).numpy())\n",
    "print(zt.numpy()) \n"
   ]
  },
  {
   "cell_type": "markdown",
   "metadata": {},
   "source": [
    "**Tensors may have more axes**\n",
    "\n",
    "<img style=\"float: center;\" src=\"./images/Tensors.png\" width=\"600\">"
   ]
  },
  {
   "cell_type": "code",
   "execution_count": 31,
   "metadata": {},
   "outputs": [
    {
     "name": "stdout",
     "output_type": "stream",
     "text": [
      "[[[ 0  1  2  3  4]\n",
      "  [ 5  6  7  8  9]]\n",
      "\n",
      " [[10 11 12 13 14]\n",
      "  [15 16 17 18 19]]\n",
      "\n",
      " [[20 21 22 23 24]\n",
      "  [25 26 27 28 29]]]\n",
      "(3, 2, 5)\n"
     ]
    }
   ],
   "source": [
    "rank_3_tensor = tf.constant([\n",
    "  [[0, 1, 2, 3, 4],\n",
    "   [5, 6, 7, 8, 9]],\n",
    "  [[10, 11, 12, 13, 14],\n",
    "   [15, 16, 17, 18, 19]],\n",
    "  [[20, 21, 22, 23, 24],\n",
    "   [25, 26, 27, 28, 29]],])\n",
    "\n",
    "print(rank_3_tensor.numpy())\n",
    "print(rank_3_tensor.shape)"
   ]
  },
  {
   "cell_type": "markdown",
   "metadata": {},
   "source": [
    "**TensorFlow Variables**\n",
    "\n",
    "Variables are in-memory buffers containing tensors. All tensors we’ve used previously have been constant\n",
    "tensors, not variables. Once tensors are created, then we may also create the corresponding variables by wrapping the tensor in the `Variable()` function: `my_var = tf.Variable(tf.zeros([row_dim, col_dim]))`. \n",
    "\n",
    "The main way to create a variable is by using the `Variable()` function, which takes a tensor as an input and outputs a variable. Variables are created and tracked via the `tf.Variable` class. A `tf.Variable` represents a tensor whose value can be changed by running ops on it. Specific ops allow you to read and modify the values of this tensor."
   ]
  },
  {
   "cell_type": "code",
   "execution_count": 32,
   "metadata": {},
   "outputs": [
    {
     "name": "stdout",
     "output_type": "stream",
     "text": [
      "Shape:  (2, 2)\n",
      "DType:  <dtype: 'float32'>\n",
      "As NumPy:  [[1. 2.]\n",
      " [3. 4.]]\n",
      "A variable: <tf.Variable 'Variable:0' shape=(2, 2) dtype=float32, numpy=\n",
      "array([[1., 2.],\n",
      "       [3., 4.]], dtype=float32)>\n",
      "\n",
      "Viewed as a tensor: tf.Tensor(\n",
      "[[1. 2.]\n",
      " [3. 4.]], shape=(2, 2), dtype=float32)\n",
      "\n",
      "Index of highest value: tf.Tensor([1 1], shape=(2,), dtype=int64)\n",
      "\n",
      "Copying and reshaping:  tf.Tensor([[1. 2. 3. 4.]], shape=(1, 4), dtype=float32)\n"
     ]
    }
   ],
   "source": [
    "my_tensor = tf.constant([[1.0, 2.0], [3.0, 4.0]])\n",
    "my_variable = tf.Variable(my_tensor)\n",
    "\n",
    "# Variables can be all kinds of types, just like tensors\n",
    "bool_variable = tf.Variable([False, False, False, True])\n",
    "complex_variable = tf.Variable([5 + 4j, 6 + 1j])\n",
    "\n",
    "print(\"Shape: \", my_variable.shape)\n",
    "print(\"DType: \", my_variable.dtype)\n",
    "print(\"As NumPy: \", my_variable.numpy())\n",
    "\n",
    "\n",
    "print(\"A variable:\", my_variable)\n",
    "print(\"\\nViewed as a tensor:\", tf.convert_to_tensor(my_variable))\n",
    "print(\"\\nIndex of highest value:\", tf.argmax(my_variable))\n",
    "\n",
    "# This creates a new tensor; it does not reshape the variable.\n",
    "print(\"\\nCopying and reshaping: \", tf.reshape(my_variable, ([1,4])))"
   ]
  },
  {
   "cell_type": "markdown",
   "metadata": {},
   "source": [
    "As noted above, variables are backed by tensors. You can reassign the tensor using `tf.Variable.assign`. Calling assign does not allocate a new tensor; instead, the existing tensor's memory is reused."
   ]
  },
  {
   "cell_type": "code",
   "execution_count": 33,
   "metadata": {},
   "outputs": [
    {
     "name": "stdout",
     "output_type": "stream",
     "text": [
      "ValueError: Shapes (2,) and (3,) are incompatible\n",
      "[5. 6.]\n",
      "[2. 3.]\n",
      "[7. 9.]\n",
      "[0. 0.]\n"
     ]
    }
   ],
   "source": [
    "a = tf.Variable([2.0, 3.0])\n",
    "# This will keep the same dtype, float32\n",
    "a.assign([1, 2]) ## This will not change the cast from tf.variable. a = tf.consts([1,2]) will recast a to tf.tensor\n",
    "\n",
    "# Not allowed as it resizes the variable: \n",
    "try:\n",
    "  a.assign([1.0, 2.0, 3.0])\n",
    "except Exception as e:\n",
    "  print(f\"{type(e).__name__}: {e}\")\n",
    "\n",
    "a = tf.Variable([2.0, 3.0])\n",
    "# Create b based on the value of a\n",
    "b = tf.Variable(a)\n",
    "a.assign([5, 6])\n",
    "\n",
    "# a and b are different\n",
    "print(a.numpy())\n",
    "print(b.numpy())\n",
    "\n",
    "# There are other versions of assign\n",
    "# Note: a = a + tf.const([2.0, 3.0]) will change the cast of a from tf.Variable to tf.tensor\n",
    "print(a.assign_add([2,3]).numpy())  # this will add and update a\n",
    "print(a.assign_sub([7,9]).numpy())  # this will subtract and update a"
   ]
  },
  {
   "cell_type": "code",
   "execution_count": 34,
   "metadata": {},
   "outputs": [],
   "source": [
    "a = tf.Variable(0, dtype = tf.float32)\n",
    "\n",
    "for _ in range(10):\n",
    "    a.assign_add(1) ## a = a + 1\n"
   ]
  },
  {
   "cell_type": "code",
   "execution_count": 36,
   "metadata": {},
   "outputs": [
    {
     "name": "stdout",
     "output_type": "stream",
     "text": [
      "10.0\n"
     ]
    }
   ],
   "source": [
    "print(a.numpy())"
   ]
  },
  {
   "cell_type": "code",
   "execution_count": null,
   "metadata": {},
   "outputs": [],
   "source": []
  }
 ],
 "metadata": {
  "kernelspec": {
   "display_name": "Python 3 (ipykernel)",
   "language": "python",
   "name": "python3"
  },
  "language_info": {
   "codemirror_mode": {
    "name": "ipython",
    "version": 3
   },
   "file_extension": ".py",
   "mimetype": "text/x-python",
   "name": "python",
   "nbconvert_exporter": "python",
   "pygments_lexer": "ipython3",
   "version": "3.9.5"
  }
 },
 "nbformat": 4,
 "nbformat_minor": 4
}
