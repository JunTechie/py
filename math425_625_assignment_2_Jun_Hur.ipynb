{
 "cells": [
  {
   "cell_type": "markdown",
   "id": "7a582d3f-9c0c-4b3b-8d31-ac9aa6c776e6",
   "metadata": {},
   "source": [
    "**Assignment 2: MATH 425/625 Numerical Analysis**\n",
    "\n",
    "**JUN HUR**"
   ]
  },
  {
   "cell_type": "markdown",
   "id": "03aabea5-a5bd-4a2a-bd13-d3f16d78c236",
   "metadata": {},
   "source": [
    "**Question 1**: Study the method of False positions and write a python program to implement the algorithm. Apply the algorithm as well as the Newton's algorithm to find the roots of the polynomial $f(x) = 230x^4 + 18 x^3 + 9 x^2 - 221x-9$ in the intervals a) $[-1,0]$ and b) $[0,1]$. Attempt to approximate the roots within $10^{-6}$ using each method. You may use the end points of each interval as initial approximation for the method of False Positions and use the mid-point for Newton’s method. Tabulate your findings in a pandas data frame and insure that the roots are bracketed by the method of False Position."
   ]
  },
  {
   "cell_type": "code",
   "execution_count": 61,
   "id": "d47d23c4-8540-4985-b9e5-24675a5c5efa",
   "metadata": {},
   "outputs": [],
   "source": [
    "import numpy as np\n",
    "import pandas as pd\n",
    "\n",
    "\n",
    "def falsePos(a, b, max_it):\n",
    "    \n",
    "    c = a\n",
    "    i = 2\n",
    "    while i <= max_it:    \n",
    "        c = (a * f(b) - b * f(a))/ (f(b) - f(a))\n",
    "        \n",
    "        if f(c) == 0:\n",
    "            break\n",
    "         \n",
    "        elif f(c) * f(a) < 0:\n",
    "            b = c\n",
    "        else:\n",
    "            a = c\n",
    "    \n",
    "    return(c)\n",
    "\n",
    "\n",
    "\n",
    "def f(x):\n",
    "    y =230 * x ** 4 + 18 * x ** 3 + 9 * x**2 - 221 * x -9\n",
    "    return(y)\n",
    "\n",
    "def fp(x):\n",
    "    y = 920 * x ** 3 + 54 * x ** 2 + 18 * x - 221\n",
    "    return(y)\n",
    "\n",
    "def g(x):\n",
    "    y = x - f(x) / fp(x)\n",
    "    return(y)\n",
    "\n",
    "\n",
    "def newtons_method(p0, e, max_it):\n",
    "    i = 1\n",
    "    while i <= max_it:\n",
    "        p = g(p0)\n",
    "        if abs(p - p0) <= e:\n",
    "            return(p)\n",
    "        p0 = p\n",
    "        i += 1\n",
    "          \n",
    "    return(p)\n",
    "\n",
    "    \n",
    "\n"
   ]
  },
  {
   "cell_type": "code",
   "execution_count": 89,
   "id": "f9f7201c-69c4-4886-80b0-b9580ed72e08",
   "metadata": {},
   "outputs": [],
   "source": [
    "\n",
    "p1 = falsePos(-1,0,max_it)\n",
    "p2 = newtons_method(-1, 0, max_it)\n",
    "p3 = falsePos(0,1,max_it)\n",
    "p4 = newtons_method(0, 1, max_it)\n",
    "\n"
   ]
  },
  {
   "cell_type": "code",
   "execution_count": 90,
   "id": "97396ba9-c396-4be5-b16b-0c4f461a3c4f",
   "metadata": {},
   "outputs": [
    {
     "data": {
      "text/html": [
       "<div>\n",
       "<style scoped>\n",
       "    .dataframe tbody tr th:only-of-type {\n",
       "        vertical-align: middle;\n",
       "    }\n",
       "\n",
       "    .dataframe tbody tr th {\n",
       "        vertical-align: top;\n",
       "    }\n",
       "\n",
       "    .dataframe thead th {\n",
       "        text-align: right;\n",
       "    }\n",
       "</style>\n",
       "<table border=\"1\" class=\"dataframe\">\n",
       "  <thead>\n",
       "    <tr style=\"text-align: right;\">\n",
       "      <th></th>\n",
       "      <th>p1</th>\n",
       "      <th>p2</th>\n",
       "      <th>p3</th>\n",
       "      <th>p4</th>\n",
       "    </tr>\n",
       "  </thead>\n",
       "  <tbody>\n",
       "    <tr>\n",
       "      <th>0</th>\n",
       "      <td>-0.040659288315759</td>\n",
       "      <td>-0.040659288315759</td>\n",
       "      <td>0.962398418750541</td>\n",
       "      <td>-0.040723981900452</td>\n",
       "    </tr>\n",
       "  </tbody>\n",
       "</table>\n",
       "</div>"
      ],
      "text/plain": [
       "                  p1                 p2                p3                 p4\n",
       "0 -0.040659288315759 -0.040659288315759 0.962398418750541 -0.040723981900452"
      ]
     },
     "execution_count": 90,
     "metadata": {},
     "output_type": "execute_result"
    }
   ],
   "source": [
    "all_ps = {'p1':p1, 'p2':p2, 'p3':p3, 'p4':p4}\n",
    "pd.DataFrame(dict([(k, pd.Series(v)) for k, v in all_ps.items()]))"
   ]
  },
  {
   "cell_type": "markdown",
   "id": "7d919af3-b507-48e5-8e6c-0828b5b0f4ac",
   "metadata": {},
   "source": [
    "**Question 2**: Let $f(x) \\in C[a,b]$, and let $p \\in (a,b)$.\n",
    "\n",
    "1. Suppose that $f(p) \\neq 0$. Show that there is a $\\delta > 0$ with $f(x) \\neq 0$ for all $x \\in [p - \\delta, p + \\delta]$.\n",
    "1. Suppose that $f(p) = 0$ and $k > 0$ is given. Show that there is a $\\delta >0$ with $f(x) \\leq k$ for all $x \\in [p - \\delta, p + \\delta]$."
   ]
  },
  {
   "cell_type": "markdown",
   "id": "007dd6fa-9e0e-42cf-aa45-a529e1878dd0",
   "metadata": {},
   "source": [
    "1. Given $f(p) \\neq 0$ , choose an $\\epsilon $, such that $ 0<\\epsilon<|f(p)| $ from definition of continuity,\n",
    "\n",
    "for any $\\epsilon> 0$ there exist $\\delta > 0$, such that $|f(x)-f(p)|<\\epsilon $ whenever $|x-p|<\\delta$ for $ x \\in D$\n",
    "\n",
    "thus,$|f(x)-f(p)| \\le |f(p)-f(x)| \\le \\epsilon $ then, $|f(x)| \\ge |f(p)|-\\epsilon>0$  whenever $|x-p| \\le \\delta$ for $ x \\in D$ \n",
    "\n",
    "thus, $f(x) \\neq 0$  whenever $x \\in [p - \\delta, p + \\delta]$.\n",
    "\n",
    "2. Given  $f(p)=0$\n",
    "\n",
    "choose an $\\epsilon = k $. from definition of continuity,\n",
    "\n",
    "for any $\\epsilon> 0$ there exist $\\delta > 0$, such that $|f(x)-f(p)|=|f(x)|<k $ whenever $|x-p|<\\delta$ for $ x \\in D$\n",
    "\n",
    "thus, $f(x) \\le k $  whenever $x \\in [p - \\delta, p + \\delta]$."
   ]
  }
 ],
 "metadata": {
  "kernelspec": {
   "display_name": "Python 3 (ipykernel)",
   "language": "python",
   "name": "python3"
  },
  "language_info": {
   "codemirror_mode": {
    "name": "ipython",
    "version": 3
   },
   "file_extension": ".py",
   "mimetype": "text/x-python",
   "name": "python",
   "nbconvert_exporter": "python",
   "pygments_lexer": "ipython3",
   "version": "3.9.13"
  }
 },
 "nbformat": 4,
 "nbformat_minor": 5
}
