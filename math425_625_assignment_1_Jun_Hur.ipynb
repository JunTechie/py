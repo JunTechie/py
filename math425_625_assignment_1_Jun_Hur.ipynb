{
 "cells": [
  {
   "cell_type": "markdown",
   "metadata": {},
   "source": [
    "**Assignment 1: MATH 425/625 Numerical Analysis**\n",
    "\n",
    "**Jun Hur**"
   ]
  },
  {
   "cell_type": "markdown",
   "metadata": {},
   "source": [
    "**Question 1:** State and prove Newton’s Bisection theorem. Use LaTex for typesetting the math\n",
    "formaulas. You may use the notes and the book."
   ]
  },
  {
   "cell_type": "markdown",
   "metadata": {
    "tags": []
   },
   "source": [
    "#### The bisection method is the root-finding method. when the function is continuous, find a root by bisecting a closed interval in which a root must exist and then repeating by selecting a subinterval in which the root exists.\n",
    "\n",
    "\n",
    "1. let $p = \\dfrac{(a+b)}{2}$\n",
    "\n",
    "2. if $f(p)=0$, then p_out=p, and we are done.\n",
    "\n",
    "\n",
    "3. if $f(a)$ and $f(p)$ have same sign, set $a=p,f(a)=f(p)$. \n",
    "\n",
    "4. if $f(a)$ and $f(p)$ have opposite sign, set $b=p, f(b)=f(p)$.\n",
    "           \n"
   ]
  },
  {
   "cell_type": "markdown",
   "metadata": {},
   "source": [
    "**Question 2:** Implement the Newton’s Bisection method and apply it to the function $𝑓(𝑥) =\n",
    "𝑥^3 + 4𝑥^2 − 10.$ This function has a root in [1, 2]."
   ]
  },
  {
   "cell_type": "code",
   "execution_count": 1,
   "metadata": {},
   "outputs": [
    {
     "name": "stdout",
     "output_type": "stream",
     "text": [
      "1.365230013616383\n",
      "3.340433707421653e-09\n"
     ]
    }
   ],
   "source": [
    "def bisection(a, b, tol, max_it):\n",
    "    i = 1\n",
    "    fa = f(a)\n",
    "    while i <= max_it: ## for i in range(max_it):\n",
    "        p = (a + b) / 2.0\n",
    "        fp = f(p)\n",
    "        if fp == 0 or (b - a)/2.0 < tol:\n",
    "            p_out = p\n",
    "            return(p)\n",
    "        i += 1 ## comment this if using for loop\n",
    "        if fa * fp > 0:\n",
    "            a = p\n",
    "            fa = fp\n",
    "        else:\n",
    "            b = p\n",
    "    print('max num iteration exceeded')\n",
    "    return(-999)\n",
    "\n",
    "def f(x):\n",
    "    y = x ** 3 + 4 * x ** 2 - 10\n",
    "    return(y)\n",
    "\n",
    "a = 1\n",
    "b = 2\n",
    "p = bisection(a, b, 0.000000001, 100)\n",
    "print(p)\n",
    "\n",
    "print(f(p))"
   ]
  },
  {
   "cell_type": "markdown",
   "metadata": {},
   "source": [
    "**Question 3:** Use the matplotlib library to plot the function. Place a red dot on the figure where\n",
    "the estiated root is. Make sure that the x and y axes are visible."
   ]
  },
  {
   "cell_type": "code",
   "execution_count": 3,
   "metadata": {},
   "outputs": [
    {
     "data": {
      "image/png": "[encoded data removed]",
      "text/plain": [
       "<Figure size 640x480 with 1 Axes>"
      ]
     },
     "metadata": {},
     "output_type": "display_data"
    }
   ],
   "source": [
    "import matplotlib.pyplot as plt\n",
    "import numpy as np\n",
    "\n",
    "x = np.linspace(a, b, 100)\n",
    "y = f(x)\n",
    "\n",
    "plt.plot(x, y, color = 'b')\n",
    "plt.hlines(0, a, b, color = 'k')\n",
    "plt.scatter(p, 0, color = 'r')\n",
    "plt.show()"
   ]
  }
 ],
 "metadata": {
  "kernelspec": {
   "display_name": "Python 3 (ipykernel)",
   "language": "python",
   "name": "python3"
  },
  "language_info": {
   "codemirror_mode": {
    "name": "ipython",
    "version": 3
   },
   "file_extension": ".py",
   "mimetype": "text/x-python",
   "name": "python",
   "nbconvert_exporter": "python",
   "pygments_lexer": "ipython3",
   "version": "3.9.13"
  }
 },
 "nbformat": 4,
 "nbformat_minor": 4
}
